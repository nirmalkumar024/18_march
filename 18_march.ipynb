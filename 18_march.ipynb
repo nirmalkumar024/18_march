{
 "cells": [
  {
   "cell_type": "markdown",
   "id": "8800839f-69c3-4e2f-9ec5-0507bf483d93",
   "metadata": {},
   "source": [
    "Q1. What is the Filter method in feature selection, and how does it work?"
   ]
  },
  {
   "cell_type": "markdown",
   "id": "773adcec-e8a7-4f2a-ab81-66c17a18570b",
   "metadata": {},
   "source": [
    " filter methods for feature selection in machine learning are a way to pick the most valuable information from a large data set that can help your model make better predictions."
   ]
  },
  {
   "cell_type": "markdown",
   "id": "bed5255f-ebb0-469d-97a4-fa8f38237382",
   "metadata": {},
   "source": [
    "Filter methods might fail to find the best subset of features in many occasions but wrapper methods can always provide the best subset of features, Using the subset of features from the wrapper methods make the model more prone to overfitting as compared to using subset of features from the filter methods."
   ]
  },
  {
   "cell_type": "markdown",
   "id": "59dfca70-b0cd-489c-b14c-7b6a875a77e4",
   "metadata": {},
   "source": [
    "Q3. What are some common techniques used in Embedded feature selection methods?"
   ]
  },
  {
   "cell_type": "markdown",
   "id": "e11b92b3-1b02-4036-b5dd-159672e47ca4",
   "metadata": {},
   "source": [
    "some common techniques used in Embedded feature selection methods:\n",
    "    1 forward selection\n",
    "    2.backward selection\n",
    "    3.Lasso\n",
    "    4.Variance thresold"
   ]
  },
  {
   "cell_type": "markdown",
   "id": "2415f5ff-1950-40d1-8dbb-3432ffa00bdc",
   "metadata": {},
   "source": [
    "Q5. In which situations would you prefer using the Filter method over the Wrapper method for feature\n",
    "selection?"
   ]
  },
  {
   "cell_type": "markdown",
   "id": "0c13a753-2bc4-4fc7-9d4d-d3aecd53e28e",
   "metadata": {},
   "source": [
    "For large data you should use the Filter approaches because these approaches are rapid and for small size of data it is better to use Wrapper (KNN, SVM,etc) approaches because they are slower than the Filter approaches. or you can combine the two approaches to have better results than the two approaches"
   ]
  },
  {
   "cell_type": "markdown",
   "id": "3972fd68-c952-43e0-ac37-4c79ae496431",
   "metadata": {},
   "source": [
    "Q6. In a telecom company, you are working on a project to develop a predictive model for customer churn.\n",
    "You are unsure of which features to include in the model because the dataset contains several different\n",
    "ones. Describe how you would choose the most pertinent attributes for the model using the Filter Method."
   ]
  },
  {
   "cell_type": "markdown",
   "id": "615e5222-dc50-416f-ac81-b09a6707e62a",
   "metadata": {},
   "source": [
    "It is totaly depend on the customer size and the company need of data, if they have hug customer size then we have to go with filter approaches and find the model according to the company need."
   ]
  },
  {
   "cell_type": "markdown",
   "id": "e7335d1f-58cd-44a4-a2e5-6b15defb1234",
   "metadata": {},
   "source": [
    "Q7. You are working on a project to predict the outcome of a soccer match. You have a large dataset with\n",
    "many features, including player statistics and team rankings. Explain how you would use the Embedded\n",
    "method to select the most relevant features for the model."
   ]
  },
  {
   "cell_type": "markdown",
   "id": "aeaa2b88-a3ac-4873-9faf-67fb494a15eb",
   "metadata": {},
   "source": [
    "Embedded method:- combine the qualities' of filter and wrapper methods. It's implemented by algorithms that have their own built-in feature selection methods. Some of the most popular examples of these methods are LASSO and RIDGE regression which have inbuilt penalization functions to reduce overfitting.\n",
    "\n",
    "We can approch embedded method to predict the outcome of a soccer match of large dataset in many feature because in embedded method we don't need seperatly do lasso and ridge regression."
   ]
  },
  {
   "cell_type": "markdown",
   "id": "6f0f1327-c502-4dad-803f-11fd8791fa7f",
   "metadata": {},
   "source": [
    "Q8. You are working on a project to predict the price of a house based on its features, such as size, location,\n",
    "and age. You have a limited number of features, and you want to ensure that you select the most important\n",
    "ones for the model. Explain how you would use the Wrapper method to select the best set of features for the\n",
    "predictor."
   ]
  },
  {
   "cell_type": "code",
   "execution_count": null,
   "id": "a53c1b20-e623-482a-acc8-a9c02bd4af71",
   "metadata": {},
   "outputs": [],
   "source": []
  }
 ],
 "metadata": {
  "kernelspec": {
   "display_name": "Python 3 (ipykernel)",
   "language": "python",
   "name": "python3"
  },
  "language_info": {
   "codemirror_mode": {
    "name": "ipython",
    "version": 3
   },
   "file_extension": ".py",
   "mimetype": "text/x-python",
   "name": "python",
   "nbconvert_exporter": "python",
   "pygments_lexer": "ipython3",
   "version": "3.10.8"
  }
 },
 "nbformat": 4,
 "nbformat_minor": 5
}
